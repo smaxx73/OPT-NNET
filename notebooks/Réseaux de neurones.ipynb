{
 "cells": [
  {
   "cell_type": "code",
   "execution_count": 1,
   "metadata": {},
   "outputs": [
    {
     "data": {
      "text/html": [
       "<style>\n",
       "h1 {\n",
       "  border: 1.5px solid #333;\n",
       "  padding: 8px 12px;\n",
       "  background-color:#a0cfc0;\n",
       "  position: static;\n",
       "}  \n",
       "h2 {\n",
       "  padding: 8px 12px;\n",
       "  background-color:#f0cfc0;\n",
       "  position: static;\n",
       "}   \n",
       "h3 {\n",
       "  padding: 4px 8px;\n",
       "  background-color:#f0cfc0;\n",
       "  position: static;\n",
       "}   \n",
       "</style>\n"
      ],
      "text/plain": [
       "<IPython.core.display.HTML object>"
      ]
     },
     "metadata": {},
     "output_type": "display_data"
    }
   ],
   "source": [
    "%%html\n",
    "<style>\n",
    "h1 {\n",
    "  border: 1.5px solid #333;\n",
    "  padding: 8px 12px;\n",
    "  background-color:#a0cfc0;\n",
    "  position: static;\n",
    "}  \n",
    "h2 {\n",
    "  padding: 8px 12px;\n",
    "  background-color:#f0cfc0;\n",
    "  position: static;\n",
    "}   \n",
    "h3 {\n",
    "  padding: 4px 8px;\n",
    "  background-color:#f0cfc0;\n",
    "  position: static;\n",
    "}   \n",
    "</style>"
   ]
  },
  {
   "cell_type": "code",
   "execution_count": 2,
   "metadata": {},
   "outputs": [],
   "source": [
    "%matplotlib inline\n",
    "import matplotlib.pyplot as plt\n",
    "plt.style.use('seaborn-whitegrid')\n",
    "import numpy as np"
   ]
  },
  {
   "cell_type": "code",
   "execution_count": 3,
   "metadata": {},
   "outputs": [],
   "source": [
    "from IPython.display import Image, IFrame\n",
    "from IPython.core.display import HTML\n",
    "from IPython.display import Latex"
   ]
  },
  {
   "cell_type": "markdown",
   "metadata": {},
   "source": [
    "# Neural network"
   ]
  },
  {
   "cell_type": "markdown",
   "metadata": {},
   "source": [
    "## 1. Layer"
   ]
  },
  {
   "cell_type": "markdown",
   "metadata": {},
   "source": [
    "Maintenant, étant donné une entrée $(x_1,...,x_n)$, on organise plusieurs perceptrons en **couches**. "
   ]
  },
  {
   "cell_type": "markdown",
   "metadata": {},
   "source": [
    "<img src=\"https://www.researchgate.net/profile/Facundo_Bre/publication/321259051/figure/fig1/AS:614329250496529@1523478915726/Artificial-neural-network-architecture-ANN-i-h-1-h-2-h-n-o.png\"> </img>"
   ]
  },
  {
   "cell_type": "markdown",
   "metadata": {},
   "source": [
    "#### Exemple 0 : un réseau de neurones avec 2 couches : 2 neurones (perceptron linéaire avec fonction d'activation ReLu) sur la 1ère couche, 1 neurone (perceptron affine avec fonction d'activation Heaviside) sur la 2ème couche.\n",
    "\n",
    "<img src=\"img/neural_layer_ex1.png\"> </img>\n",
    "\n",
    "**Exercice** : vérifier que la sortie est $1$ si l'entrée est $(4,7)$.\n",
    "\n",
    "_Conseil_ : nous pouvons utiliser un produit matriciel : en Python, $A \\times B$ est calculé avec cette commande : ```np.dot(A,B)```\n"
   ]
  },
  {
   "cell_type": "code",
   "execution_count": 5,
   "metadata": {},
   "outputs": [],
   "source": [
    "def ReLu(y):\n",
    "    if y<0:\n",
    "        return 0\n",
    "    else:\n",
    "        return y\n",
    "\n",
    "def H(y):\n",
    "    if y<0:\n",
    "        return 0\n",
    "    else:\n",
    "        return 1"
   ]
  },
  {
   "cell_type": "code",
   "execution_count": 6,
   "metadata": {},
   "outputs": [
    {
     "name": "stdout",
     "output_type": "stream",
     "text": [
      "1\n"
     ]
    }
   ],
   "source": [
    "X = np.array([4, 7])\n",
    "W1 = np.array([[2, -1],[-3, 2]])\n",
    "Y1 = np.dot(W1, X)\n",
    "Y1 = [ReLu(y) for y in Y1]\n",
    "W2 = np.array([4, 5])\n",
    "b2 = -1\n",
    "Y2 = np.dot(W2, Y1) + b2\n",
    "Y2 = H(Y2)\n",
    "print(Y2)"
   ]
  },
  {
   "cell_type": "markdown",
   "metadata": {},
   "source": [
    "### Exemple 1\n",
    "<img src=\"img/neural_layer_ex2.png\"> </img>\n",
    "\n"
   ]
  },
  {
   "cell_type": "markdown",
   "metadata": {},
   "source": [
    "#### 1st layer, 1st neuron :\n",
    "Est actif si $-x+3y \\geq 0$."
   ]
  },
  {
   "cell_type": "code",
   "execution_count": 7,
   "metadata": {},
   "outputs": [
    {
     "data": {
      "image/png": "[encoded data removed]",
      "text/plain": [
       "<Figure size 432x288 with 1 Axes>"
      ]
     },
     "metadata": {},
     "output_type": "display_data"
    }
   ],
   "source": [
    "x=np.linspace(-6, 6, 300)\n",
    "y=np.array([t / 3 for t in x])\n",
    "plt.plot(x, y, 'k--')\n",
    "plt.fill_between(x, y, np.max(y) + 2, color = \"green\", alpha = 0.5)\n",
    "\n",
    "plt.axis('equal')\n",
    "plt.axis([-5, 5, -3, 3])\n",
    "plt.show()"
   ]
  },
  {
   "cell_type": "markdown",
   "metadata": {},
   "source": [
    "#### 1st layer, 2nd neuron :\n",
    "Is active if $2x+y \\geq 0$."
   ]
  },
  {
   "cell_type": "code",
   "execution_count": 9,
   "metadata": {},
   "outputs": [
    {
     "data": {
      "image/png": "[encoded data removed]",
      "text/plain": [
       "<Figure size 432x288 with 1 Axes>"
      ]
     },
     "metadata": {
      "needs_background": "light"
     },
     "output_type": "display_data"
    }
   ],
   "source": [
    "x = np.linspace(-6, 6, 300)\n",
    "z = np.array([-2 * t for t in x])\n",
    "plt.plot(x, z, 'k--')\n",
    "plt.fill_between(x, z, np.max(z), color=\"green\", alpha=0.5)\n",
    "\n",
    "plt.axis('equal')\n",
    "plt.axis([-5, 5, -3, 3])\n",
    "plt.show()\n"
   ]
  },
  {
   "cell_type": "markdown",
   "metadata": {},
   "source": [
    "#### 2ème couche, un neurone :\n",
    "\n",
    "Ce perceptron réalise la fonction booléene ```x AND y``` (c.f. voir cours précédent)."
   ]
  },
  {
   "cell_type": "markdown",
   "metadata": {},
   "source": [
    "#### Résultat des deux couches :\n",
    "\n",
    "Le réseau de neurones a une sortie égale à $1$ à l'**intersection** des deux demi-plans où les neurones de la première couche sont égaux à $1$.\n"
   ]
  },
  {
   "cell_type": "code",
   "execution_count": 8,
   "metadata": {},
   "outputs": [
    {
     "data": {
      "image/png": "[encoded data removed]",
      "text/plain": [
       "<Figure size 432x288 with 1 Axes>"
      ]
     },
     "metadata": {},
     "output_type": "display_data"
    }
   ],
   "source": [
    "x = np.linspace(-6, 6, 300)\n",
    "y = np.array([t / 3 for t in x])\n",
    "z = np.array([-2 * t for t in x])\n",
    "plt.plot(x, y, 'k--')\n",
    "plt.plot(x, z, 'k--')\n",
    "plt.fill_between(x, y, np.max(y) + 2, color=\"green\", alpha=0.3)\n",
    "plt.fill_between(x, z, np.max(z), color=\"green\", alpha=0.3)\n",
    "plt.fill_between(x, z, np.max(z), where=y < z, color=\"red\", alpha=1)\n",
    "plt.fill_between(x, y, np.max(z), where=y > z, color=\"red\", alpha=1)\n",
    "plt.axis('equal')\n",
    "plt.axis([-5, 5, -3, 3])\n",
    "plt.show()\n"
   ]
  },
  {
   "cell_type": "markdown",
   "metadata": {},
   "source": [
    "### Exemple 2\n",
    "<img src=\"img/neural_layer_ex3.png\"> </img>\n",
    "\n"
   ]
  },
  {
   "cell_type": "code",
   "execution_count": 9,
   "metadata": {},
   "outputs": [
    {
     "data": {
      "image/png": "[encoded data removed]",
      "text/plain": [
       "<Figure size 432x288 with 1 Axes>"
      ]
     },
     "metadata": {},
     "output_type": "display_data"
    }
   ],
   "source": [
    "x = np.linspace(-6, 6, 300)\n",
    "y = np.array([t / 3 for t in x])\n",
    "z = np.array([-2 * t for t in x])\n",
    "plt.plot(x, y, 'k--')\n",
    "plt.plot(x, z, 'k--')\n",
    "plt.fill_between(x, y, np.max(y) + 2, color=\"red\", alpha=1)\n",
    "plt.fill_between(x, z, np.max(z), color=\"red\", alpha=1)\n",
    "# plt.fill_between(x, z, np.max(z), where=y<z, color=\"red\", alpha=0.5)\n",
    "# plt.fill_between(x, y, np.max(z), where=y>z, color=\"red\", alpha=0.5)\n",
    "plt.axis('equal')\n",
    "plt.axis([-5, 5, -3, 3])\n",
    "plt.show()\n"
   ]
  },
  {
   "cell_type": "markdown",
   "metadata": {},
   "source": [
    "Ce réseau de neurones envoie en sortie la valeur $1$ si l'entrée est dans l'__union__ des deux demi plans définis par la première couche. "
   ]
  },
  {
   "cell_type": "markdown",
   "metadata": {},
   "source": [
    "### Exercice :\n",
    "Trouve un réseau de neurones donnant en sortie 1 sur la zone rouge, 0 sinon.\n",
    "<img src=\"img/neural_layer_ex4.png\"> </img>"
   ]
  },
  {
   "cell_type": "code",
   "execution_count": 10,
   "metadata": {},
   "outputs": [],
   "source": [
    "def H(y):\n",
    "    if y < 0:\n",
    "        return 0\n",
    "    else:\n",
    "        return 1\n",
    "\n",
    "def nnetwork(x, y):\n",
    "    X = np.array([x, y])\n",
    "    W1 = np.array([[-1, -3], [-3, 5], [-5, -1]])\n",
    "    B1 = np.array([7, 7, -7])\n",
    "    W2 = np.array([[1, 1, 1]])\n",
    "    B2 = -3\n",
    "    layer1 = np.dot(W1, X) + B1\n",
    "    layer1 = np.array([H(t) for t in layer1])\n",
    "    layer2 = np.dot(W2, layer1) + B2\n",
    "    layer2 = H(layer2)\n",
    "    output = layer2\n",
    "    return output\n",
    "\n"
   ]
  },
  {
   "cell_type": "code",
   "execution_count": 11,
   "metadata": {},
   "outputs": [
    {
     "data": {
      "image/png": "[encoded data removed]",
      "text/plain": [
       "<Figure size 432x288 with 1 Axes>"
      ]
     },
     "metadata": {},
     "output_type": "display_data"
    }
   ],
   "source": [
    "n = 100\n",
    "xmin = -6\n",
    "xmax = 5\n",
    "ymin = -5\n",
    "ymax = 5\n",
    "X = np.linspace(xmin, xmax, n)\n",
    "Y = np.linspace(ymin, ymax, n)\n",
    "for x in X:\n",
    "    for y in Y:\n",
    "        if nnetwork(x, y) == 1:\n",
    "            plt.plot(x, y, '.r')\n",
    "plt.axis('equal')\n",
    "plt.axis([xmin, xmax, ymin, ymax])\n",
    "xtick = np.linspace(xmin, xmax, xmax - xmin + 1)\n",
    "ytick = np.linspace(ymin, ymax, ymax - ymin + 1)\n",
    "plt.xticks(xtick)\n",
    "plt.yticks(ytick)\n",
    "plt.show()\n"
   ]
  },
  {
   "cell_type": "markdown",
   "metadata": {},
   "source": [
    "## 2. Theorie"
   ]
  },
  {
   "cell_type": "markdown",
   "metadata": {},
   "source": [
    "### Comment réaliser ```XOR``` ?"
   ]
  },
  {
   "cell_type": "markdown",
   "metadata": {},
   "source": [
    "#### Exercice :\n",
    "Nous avons vu qu'un seul neurone n'est pas suffisant pour réaliser l'opération ```XOR```. Trouvez un réseau de neurones à deux couches qui réalise l'opération ```XOR```.\n"
   ]
  },
  {
   "cell_type": "markdown",
   "metadata": {},
   "source": [
    "Réponse : \n",
    "<img src=\"img/xor_neuralnetwork.png\"></img>"
   ]
  },
  {
   "cell_type": "markdown",
   "metadata": {},
   "source": [
    "### Ensemble réalisables : définition et propriétés"
   ]
  },
  {
   "cell_type": "markdown",
   "metadata": {},
   "source": [
    "<div class=\"alert alert-success\" role=\"alert\">\n",
    "Un ensemble $A$ est NN-réalisable s'il existe un réseau de neurones dont la sortie donne la valeur $1$ sur $A$, $0$ sinon.\n",
    "   </div>"
   ]
  },
  {
   "cell_type": "markdown",
   "metadata": {},
   "source": [
    "<div class=\"alert alert-danger\" role=\"alert\">\n",
    "Tout $n$-polygone de $\\mathbb{R}^2$ est NN-réalisable avec $n+1$ neurones. \n",
    "   </div>"
   ]
  },
  {
   "cell_type": "markdown",
   "metadata": {},
   "source": [
    "<div class=\"alert alert-danger\" role=\"alert\">\n",
    "Si $A$ et $B$ sont deux ensembles NN-réalisables alors :\n",
    "   <ol> \n",
    "       <li> $A \\cup B$ est NN-réalisable  ;</li>\n",
    "    <li> $A \\cap B$ est NN-réalisable ;</li>  \n",
    "    <li> $\\overline{A}$ est NN-réalisable ;</li>\n",
    "    <li> $A \\backslash B$ est NN-réalisable.</li>\n",
    "    </ol>\n",
    "    </div>"
   ]
  },
  {
   "cell_type": "markdown",
   "metadata": {},
   "source": [
    "<div class=\"alert alert-danger\" role=\"alert\">\n",
    "Tout  polygone de $\\mathbb{R}^2$ est NN-realizable. Ainsi, tout courbe de Jordan (simple closed curve) peut être approchée par un réseau de neurones. \n",
    "   </div>"
   ]
  },
  {
   "cell_type": "markdown",
   "metadata": {},
   "source": [
    "### Universal approximation theorem \n",
    "Goal : approximate every continuous function $\\mathbb{R} \\to \\mathbb{R}$ by a neural network. More precisely, let $f \\colon [a;b] \\to \\mathbb{R}$ : we want to find a neural network whose output $F(x) \\approx f(x)$ for all $x \\in [a;b]$. To do this, assume that the output neuron has the identity $x \\mapsto x$ activation function. Other neurons have Heaviside activation function."
   ]
  },
  {
   "cell_type": "markdown",
   "metadata": {},
   "source": [
    "#### Heaviside step functions"
   ]
  },
  {
   "cell_type": "markdown",
   "metadata": {},
   "source": [
    "First trivial case :\n",
    "<img src=\"img/step_function1.png\"></img>\n",
    "\n",
    "Its is easy to shift the step on the left :\n",
    "<img src=\"img/step_function2.png\"></img>\n",
    "\n",
    "or and the right :\n",
    "<img src=\"img/step_function3.png\"></img>\n",
    "\n",
    "step down :\n",
    "<img src=\"img/step_function4.png\"></img>\n",
    "<img src=\"img/step_function5.png\"></img>"
   ]
  },
  {
   "cell_type": "markdown",
   "metadata": {},
   "source": [
    "#### Rectangular functions\n",
    "Just add two Heaviside step functions !\n",
    "<img src=\"img/rect_function.png\"></img>"
   ]
  },
  {
   "cell_type": "markdown",
   "metadata": {},
   "source": [
    "#### Step functions\n",
    "Just add some rectangular functions ! Be careful if the rectangles ar contiguous.\n",
    "<img src=\"img/step_function6.png\"></img>"
   ]
  },
  {
   "cell_type": "markdown",
   "metadata": {},
   "source": [
    "#### Continuous functions\n",
    "Finally, notice that every continuous function $[a;b] \\to \\mathbb{R}$ can be uniformly approximated by a step function.\n",
    "\n",
    "<img src=\"img/approx_function.png\"></img>"
   ]
  },
  {
   "cell_type": "markdown",
   "metadata": {},
   "source": [
    "### In higher dimension :"
   ]
  },
  {
   "cell_type": "markdown",
   "metadata": {},
   "source": [
    "#### Exercise :\n",
    "Find a neural network that performs this 2-dimensionnal function :\n",
    "\n",
    "<img src=\"img/step_function7.png\"></img>"
   ]
  },
  {
   "cell_type": "markdown",
   "metadata": {},
   "source": [
    "#### Answer : \n",
    "\n",
    "<img src=\"img/neural_2dim_step.png\"></img>"
   ]
  },
  {
   "cell_type": "markdown",
   "metadata": {},
   "source": [
    "## 3. Training rule for a 1-layer network\n",
    "\n",
    "Let $W$ be the weight matrix : each row is corresponding to a neuron of the layer. Let $b$ be the column matrix of bias : each row is corresponding to a neuron of the layer. \n",
    "\n",
    "Let $e$ be the column matrix of error, then the training rule is:\n",
    "\n",
    "$$W^{new} = W^{old} + e \\times x^T$$\n",
    "$$b^{new} = b^{old} + e$$"
   ]
  },
  {
   "cell_type": "markdown",
   "metadata": {},
   "source": [
    "## 4. How to pick an architecture\n",
    "\n",
    "Problem specifications help define the network in the following ways:\n",
    "1. Number of network inputs = number of problem inputs\n",
    "2. Number of neurons in output layer = number of problem outputs\n",
    "3. Output layer transfer function choice at least partly determined by\n",
    "problem specification of the outputs"
   ]
  },
  {
   "cell_type": "markdown",
   "metadata": {},
   "source": [
    "**Exercise**\n",
    "\n",
    "A single-layer neural network is to have six inputs and two outputs.\n",
    "The outputs are to be limited to and continuous over the\n",
    "range 0 to 1. What can you tell about the network architecture?\n",
    "Specifically:\n",
    "* How many neurons are required?\n",
    "* What are the dimensions of the weight matrix?\n",
    "* What kind of transfer functions could be used?\n",
    "* Is a bias required?"
   ]
  },
  {
   "cell_type": "markdown",
   "metadata": {},
   "source": [
    "**Answer**: \n",
    "* Two neurons, one for each output, are required.\n",
    "* The weight matrix has two rows corresponding to the two neurons and\n",
    "six columns corresponding to the six inputs. (The product is a two-element\n",
    "vector.)\n",
    "* Of the transfer functions we have discussed, the transfer function\n",
    "would be most appropriate.\n",
    "* Not enough information is given to determine if a bias is required."
   ]
  },
  {
   "cell_type": "code",
   "execution_count": null,
   "metadata": {},
   "outputs": [],
   "source": []
  }
 ],
 "metadata": {
  "kernelspec": {
   "display_name": "Python 3",
   "language": "python",
   "name": "python3"
  },
  "language_info": {
   "codemirror_mode": {
    "name": "ipython",
    "version": 3
   },
   "file_extension": ".py",
   "mimetype": "text/x-python",
   "name": "python",
   "nbconvert_exporter": "python",
   "pygments_lexer": "ipython3",
   "version": "3.8.3"
  }
 },
 "nbformat": 4,
 "nbformat_minor": 4
}
