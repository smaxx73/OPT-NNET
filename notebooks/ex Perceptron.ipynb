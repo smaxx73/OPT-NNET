{
 "cells": [
  {
   "cell_type": "code",
   "execution_count": 1,
   "metadata": {},
   "outputs": [],
   "source": [
    "# Importation des bibliothèques nécessaires\n",
    "import numpy as np\n",
    "import matplotlib.pyplot as plt"
   ]
  },
  {
   "cell_type": "code",
   "execution_count": 2,
   "metadata": {},
   "outputs": [],
   "source": [
    "# Définition des entrées et des sorties\n",
    "X = np.array([\n",
    "    [0, 0],\n",
    "    [0, 1],\n",
    "    [1, 0],\n",
    "    [1, 1]\n",
    "])\n",
    "\n",
    "y = np.array([0, 1, 1, 1])\n"
   ]
  },
  {
   "cell_type": "code",
   "execution_count": 3,
   "metadata": {},
   "outputs": [
    {
     "data": {
      "image/png": "[encoded data removed]",
      "text/plain": [
       "<Figure size 432x288 with 1 Axes>"
      ]
     },
     "metadata": {
      "needs_background": "light"
     },
     "output_type": "display_data"
    }
   ],
   "source": [
    "# Création d'un graphique scatter plot des données\n",
    "def plot_data(X, y):\n",
    "    for idx, point in enumerate(X):\n",
    "        if y[idx] == 0:\n",
    "            plt.scatter(point[0], point[1], color='red', marker='o', label='Classe 0' if idx == 0 else \"\")\n",
    "        else:\n",
    "            plt.scatter(point[0], point[1], color='blue', marker='x', label='Classe 1' if idx == 1 else \"\")\n",
    "    plt.xlabel('Entrée x1')\n",
    "    plt.ylabel('Entrée x2')\n",
    "    plt.legend()\n",
    "    plt.grid(True)\n",
    "    #plt.show()\n",
    "\n",
    "plot_data(X, y)\n"
   ]
  },
  {
   "cell_type": "code",
   "execution_count": 4,
   "metadata": {},
   "outputs": [],
   "source": [
    "# Initialisation des poids et du biais\n",
    "np.random.seed(8)  # Pour reproduire les mêmes résultats\n",
    "weights = np.random.rand(2)\n",
    "bias = np.random.rand(1)\n"
   ]
  },
  {
   "cell_type": "code",
   "execution_count": 5,
   "metadata": {},
   "outputs": [
    {
     "name": "stdout",
     "output_type": "stream",
     "text": [
      "Poids initiaux: [0.8734294  0.96854066]\n",
      "Biais initial: [0.86919454]\n"
     ]
    }
   ],
   "source": [
    "print(\"Poids initiaux:\", weights)\n",
    "print(\"Biais initial:\", bias)\n"
   ]
  },
  {
   "cell_type": "code",
   "execution_count": 6,
   "metadata": {},
   "outputs": [],
   "source": [
    "# Définition de la fonction d'activation\n",
    "def activation_function(z):\n",
    "    return 1 if z >= 0 else 0"
   ]
  },
  {
   "cell_type": "code",
   "execution_count": 7,
   "metadata": {},
   "outputs": [],
   "source": [
    "# Fonction de prédiction\n",
    "def predict(x):\n",
    "    z = np.dot(weights, x) + bias\n",
    "    a = activation_function(z)\n",
    "    return a"
   ]
  },
  {
   "cell_type": "code",
   "execution_count": 8,
   "metadata": {},
   "outputs": [],
   "source": [
    "# Taux d'apprentissage\n",
    "learning_rate = 0.1\n"
   ]
  },
  {
   "cell_type": "code",
   "execution_count": 9,
   "metadata": {},
   "outputs": [],
   "source": [
    "# Fonction d'entraînement\n",
    "def train(X, y, epochs):\n",
    "    global weights, bias\n",
    "    for epoch in range(epochs):\n",
    "        print(f\"Epoch {epoch+1}/{epochs}\")\n",
    "        for xi, target in zip(X, y):\n",
    "            output = predict(xi)\n",
    "            error = target - output\n",
    "            # Mise à jour des poids et du biais\n",
    "            weights += learning_rate * error * xi\n",
    "            bias += learning_rate * error\n",
    "            print(f\"Entrée: {xi}, Sortie attendue: {target}, Sortie prédite: {output}\")\n",
    "            print(f\"Erreur: {error}\")\n",
    "            print(f\"Nouveaux poids: {weights}, Nouveau biais: {bias}\\n\")\n"
   ]
  },
  {
   "cell_type": "code",
   "execution_count": 10,
   "metadata": {},
   "outputs": [],
   "source": [
    "def plot_decision_boundary(X, y, weights, bias, title):\n",
    "    # Création d'une grille de points\n",
    "    x_min, x_max = X[:, 0].min() - 0.5, X[:, 0].max() + 0.5\n",
    "    y_min, y_max = X[:, 1].min() - 0.5, X[:, 1].max() + 0.5\n",
    "    xx, yy = np.meshgrid(np.linspace(x_min, x_max, 200),\n",
    "                         np.linspace(y_min, y_max, 200))\n",
    "    # Empiler les coordonnées en un seul tableau\n",
    "    grid = np.c_[xx.ravel(), yy.ravel()]\n",
    "    # Calcul des prédictions sur la grille\n",
    "    Z = np.dot(grid, weights) + bias\n",
    "    Z = np.array([activation_function(z) for z in Z])\n",
    "    Z = Z.reshape(xx.shape)\n",
    "    # Tracé du contour et des données\n",
    "    plt.figure(figsize=(8, 6))\n",
    "    plt.contourf(xx, yy, Z, alpha=0.2, levels=[-1, 0, 1], colors=['red', 'blue'])\n",
    "    # Tracé des données\n",
    "    plot_data(X, y)\n",
    "    plt.title(title)\n",
    "    plt.show()\n",
    "\n"
   ]
  },
  {
   "cell_type": "code",
   "execution_count": 11,
   "metadata": {},
   "outputs": [
    {
     "data": {
      "image/png": "[encoded data removed]",
      "text/plain": [
       "<Figure size 576x432 with 1 Axes>"
      ]
     },
     "metadata": {
      "needs_background": "light"
     },
     "output_type": "display_data"
    }
   ],
   "source": [
    "# Visualisation avant l'entraînement\n",
    "plot_decision_boundary(X, y, weights, bias, \"Frontière de décision avant l'entraînement\")\n"
   ]
  },
  {
   "cell_type": "code",
   "execution_count": 12,
   "metadata": {},
   "outputs": [
    {
     "name": "stdout",
     "output_type": "stream",
     "text": [
      "Epoch 1/10\n",
      "Entrée: [0 0], Sortie attendue: 0, Sortie prédite: 1\n",
      "Erreur: -1\n",
      "Nouveaux poids: [0.8734294  0.96854066], Nouveau biais: [0.76919454]\n",
      "\n",
      "Entrée: [0 1], Sortie attendue: 1, Sortie prédite: 1\n",
      "Erreur: 0\n",
      "Nouveaux poids: [0.8734294  0.96854066], Nouveau biais: [0.76919454]\n",
      "\n",
      "Entrée: [1 0], Sortie attendue: 1, Sortie prédite: 1\n",
      "Erreur: 0\n",
      "Nouveaux poids: [0.8734294  0.96854066], Nouveau biais: [0.76919454]\n",
      "\n",
      "Entrée: [1 1], Sortie attendue: 1, Sortie prédite: 1\n",
      "Erreur: 0\n",
      "Nouveaux poids: [0.8734294  0.96854066], Nouveau biais: [0.76919454]\n",
      "\n",
      "Epoch 2/10\n",
      "Entrée: [0 0], Sortie attendue: 0, Sortie prédite: 1\n",
      "Erreur: -1\n",
      "Nouveaux poids: [0.8734294  0.96854066], Nouveau biais: [0.66919454]\n",
      "\n",
      "Entrée: [0 1], Sortie attendue: 1, Sortie prédite: 1\n",
      "Erreur: 0\n",
      "Nouveaux poids: [0.8734294  0.96854066], Nouveau biais: [0.66919454]\n",
      "\n",
      "Entrée: [1 0], Sortie attendue: 1, Sortie prédite: 1\n",
      "Erreur: 0\n",
      "Nouveaux poids: [0.8734294  0.96854066], Nouveau biais: [0.66919454]\n",
      "\n",
      "Entrée: [1 1], Sortie attendue: 1, Sortie prédite: 1\n",
      "Erreur: 0\n",
      "Nouveaux poids: [0.8734294  0.96854066], Nouveau biais: [0.66919454]\n",
      "\n",
      "Epoch 3/10\n",
      "Entrée: [0 0], Sortie attendue: 0, Sortie prédite: 1\n",
      "Erreur: -1\n",
      "Nouveaux poids: [0.8734294  0.96854066], Nouveau biais: [0.56919454]\n",
      "\n",
      "Entrée: [0 1], Sortie attendue: 1, Sortie prédite: 1\n",
      "Erreur: 0\n",
      "Nouveaux poids: [0.8734294  0.96854066], Nouveau biais: [0.56919454]\n",
      "\n",
      "Entrée: [1 0], Sortie attendue: 1, Sortie prédite: 1\n",
      "Erreur: 0\n",
      "Nouveaux poids: [0.8734294  0.96854066], Nouveau biais: [0.56919454]\n",
      "\n",
      "Entrée: [1 1], Sortie attendue: 1, Sortie prédite: 1\n",
      "Erreur: 0\n",
      "Nouveaux poids: [0.8734294  0.96854066], Nouveau biais: [0.56919454]\n",
      "\n",
      "Epoch 4/10\n",
      "Entrée: [0 0], Sortie attendue: 0, Sortie prédite: 1\n",
      "Erreur: -1\n",
      "Nouveaux poids: [0.8734294  0.96854066], Nouveau biais: [0.46919454]\n",
      "\n",
      "Entrée: [0 1], Sortie attendue: 1, Sortie prédite: 1\n",
      "Erreur: 0\n",
      "Nouveaux poids: [0.8734294  0.96854066], Nouveau biais: [0.46919454]\n",
      "\n",
      "Entrée: [1 0], Sortie attendue: 1, Sortie prédite: 1\n",
      "Erreur: 0\n",
      "Nouveaux poids: [0.8734294  0.96854066], Nouveau biais: [0.46919454]\n",
      "\n",
      "Entrée: [1 1], Sortie attendue: 1, Sortie prédite: 1\n",
      "Erreur: 0\n",
      "Nouveaux poids: [0.8734294  0.96854066], Nouveau biais: [0.46919454]\n",
      "\n",
      "Epoch 5/10\n",
      "Entrée: [0 0], Sortie attendue: 0, Sortie prédite: 1\n",
      "Erreur: -1\n",
      "Nouveaux poids: [0.8734294  0.96854066], Nouveau biais: [0.36919454]\n",
      "\n",
      "Entrée: [0 1], Sortie attendue: 1, Sortie prédite: 1\n",
      "Erreur: 0\n",
      "Nouveaux poids: [0.8734294  0.96854066], Nouveau biais: [0.36919454]\n",
      "\n",
      "Entrée: [1 0], Sortie attendue: 1, Sortie prédite: 1\n",
      "Erreur: 0\n",
      "Nouveaux poids: [0.8734294  0.96854066], Nouveau biais: [0.36919454]\n",
      "\n",
      "Entrée: [1 1], Sortie attendue: 1, Sortie prédite: 1\n",
      "Erreur: 0\n",
      "Nouveaux poids: [0.8734294  0.96854066], Nouveau biais: [0.36919454]\n",
      "\n",
      "Epoch 6/10\n",
      "Entrée: [0 0], Sortie attendue: 0, Sortie prédite: 1\n",
      "Erreur: -1\n",
      "Nouveaux poids: [0.8734294  0.96854066], Nouveau biais: [0.26919454]\n",
      "\n",
      "Entrée: [0 1], Sortie attendue: 1, Sortie prédite: 1\n",
      "Erreur: 0\n",
      "Nouveaux poids: [0.8734294  0.96854066], Nouveau biais: [0.26919454]\n",
      "\n",
      "Entrée: [1 0], Sortie attendue: 1, Sortie prédite: 1\n",
      "Erreur: 0\n",
      "Nouveaux poids: [0.8734294  0.96854066], Nouveau biais: [0.26919454]\n",
      "\n",
      "Entrée: [1 1], Sortie attendue: 1, Sortie prédite: 1\n",
      "Erreur: 0\n",
      "Nouveaux poids: [0.8734294  0.96854066], Nouveau biais: [0.26919454]\n",
      "\n",
      "Epoch 7/10\n",
      "Entrée: [0 0], Sortie attendue: 0, Sortie prédite: 1\n",
      "Erreur: -1\n",
      "Nouveaux poids: [0.8734294  0.96854066], Nouveau biais: [0.16919454]\n",
      "\n",
      "Entrée: [0 1], Sortie attendue: 1, Sortie prédite: 1\n",
      "Erreur: 0\n",
      "Nouveaux poids: [0.8734294  0.96854066], Nouveau biais: [0.16919454]\n",
      "\n",
      "Entrée: [1 0], Sortie attendue: 1, Sortie prédite: 1\n",
      "Erreur: 0\n",
      "Nouveaux poids: [0.8734294  0.96854066], Nouveau biais: [0.16919454]\n",
      "\n",
      "Entrée: [1 1], Sortie attendue: 1, Sortie prédite: 1\n",
      "Erreur: 0\n",
      "Nouveaux poids: [0.8734294  0.96854066], Nouveau biais: [0.16919454]\n",
      "\n",
      "Epoch 8/10\n",
      "Entrée: [0 0], Sortie attendue: 0, Sortie prédite: 1\n",
      "Erreur: -1\n",
      "Nouveaux poids: [0.8734294  0.96854066], Nouveau biais: [0.06919454]\n",
      "\n",
      "Entrée: [0 1], Sortie attendue: 1, Sortie prédite: 1\n",
      "Erreur: 0\n",
      "Nouveaux poids: [0.8734294  0.96854066], Nouveau biais: [0.06919454]\n",
      "\n",
      "Entrée: [1 0], Sortie attendue: 1, Sortie prédite: 1\n",
      "Erreur: 0\n",
      "Nouveaux poids: [0.8734294  0.96854066], Nouveau biais: [0.06919454]\n",
      "\n",
      "Entrée: [1 1], Sortie attendue: 1, Sortie prédite: 1\n",
      "Erreur: 0\n",
      "Nouveaux poids: [0.8734294  0.96854066], Nouveau biais: [0.06919454]\n",
      "\n",
      "Epoch 9/10\n",
      "Entrée: [0 0], Sortie attendue: 0, Sortie prédite: 1\n",
      "Erreur: -1\n",
      "Nouveaux poids: [0.8734294  0.96854066], Nouveau biais: [-0.03080546]\n",
      "\n",
      "Entrée: [0 1], Sortie attendue: 1, Sortie prédite: 1\n",
      "Erreur: 0\n",
      "Nouveaux poids: [0.8734294  0.96854066], Nouveau biais: [-0.03080546]\n",
      "\n",
      "Entrée: [1 0], Sortie attendue: 1, Sortie prédite: 1\n",
      "Erreur: 0\n",
      "Nouveaux poids: [0.8734294  0.96854066], Nouveau biais: [-0.03080546]\n",
      "\n",
      "Entrée: [1 1], Sortie attendue: 1, Sortie prédite: 1\n",
      "Erreur: 0\n",
      "Nouveaux poids: [0.8734294  0.96854066], Nouveau biais: [-0.03080546]\n",
      "\n",
      "Epoch 10/10\n",
      "Entrée: [0 0], Sortie attendue: 0, Sortie prédite: 0\n",
      "Erreur: 0\n",
      "Nouveaux poids: [0.8734294  0.96854066], Nouveau biais: [-0.03080546]\n",
      "\n",
      "Entrée: [0 1], Sortie attendue: 1, Sortie prédite: 1\n",
      "Erreur: 0\n",
      "Nouveaux poids: [0.8734294  0.96854066], Nouveau biais: [-0.03080546]\n",
      "\n",
      "Entrée: [1 0], Sortie attendue: 1, Sortie prédite: 1\n",
      "Erreur: 0\n",
      "Nouveaux poids: [0.8734294  0.96854066], Nouveau biais: [-0.03080546]\n",
      "\n",
      "Entrée: [1 1], Sortie attendue: 1, Sortie prédite: 1\n",
      "Erreur: 0\n",
      "Nouveaux poids: [0.8734294  0.96854066], Nouveau biais: [-0.03080546]\n",
      "\n"
     ]
    }
   ],
   "source": [
    "# Nombre d'époques\n",
    "epochs = 10\n",
    "\n",
    "# Entraînement du perceptron\n",
    "train(X, y, epochs)\n"
   ]
  },
  {
   "cell_type": "code",
   "execution_count": 13,
   "metadata": {},
   "outputs": [
    {
     "data": {
      "image/png": "[encoded data removed]",
      "text/plain": [
       "<Figure size 576x432 with 1 Axes>"
      ]
     },
     "metadata": {
      "needs_background": "light"
     },
     "output_type": "display_data"
    }
   ],
   "source": [
    "# Visualisation après l'entraînement\n",
    "plot_decision_boundary(X, y, weights, bias, \"Frontière de décision après l'entraînement\")\n"
   ]
  },
  {
   "cell_type": "code",
   "execution_count": 14,
   "metadata": {},
   "outputs": [
    {
     "name": "stdout",
     "output_type": "stream",
     "text": [
      "Évaluation du perceptron après l'entraînement:\n",
      "\n",
      "Entrée: [0 0], Sortie attendue: 0, Sortie prédite: 0\n",
      "Entrée: [0 1], Sortie attendue: 1, Sortie prédite: 1\n",
      "Entrée: [1 0], Sortie attendue: 1, Sortie prédite: 1\n",
      "Entrée: [1 1], Sortie attendue: 1, Sortie prédite: 1\n"
     ]
    }
   ],
   "source": [
    "print(\"Évaluation du perceptron après l'entraînement:\\n\")\n",
    "for xi, target in zip(X, y):\n",
    "    output = predict(xi)\n",
    "    print(f\"Entrée: {xi}, Sortie attendue: {target}, Sortie prédite: {output}\")\n"
   ]
  },
  {
   "cell_type": "code",
   "execution_count": null,
   "metadata": {},
   "outputs": [],
   "source": []
  },
  {
   "cell_type": "code",
   "execution_count": null,
   "metadata": {},
   "outputs": [],
   "source": []
  },
  {
   "cell_type": "code",
   "execution_count": null,
   "metadata": {},
   "outputs": [],
   "source": []
  },
  {
   "cell_type": "code",
   "execution_count": null,
   "metadata": {},
   "outputs": [],
   "source": []
  }
 ],
 "metadata": {
  "kernelspec": {
   "display_name": "Python 3",
   "language": "python",
   "name": "python3"
  },
  "language_info": {
   "codemirror_mode": {
    "name": "ipython",
    "version": 3
   },
   "file_extension": ".py",
   "mimetype": "text/x-python",
   "name": "python",
   "nbconvert_exporter": "python",
   "pygments_lexer": "ipython3",
   "version": "3.7.4"
  }
 },
 "nbformat": 4,
 "nbformat_minor": 2
}
