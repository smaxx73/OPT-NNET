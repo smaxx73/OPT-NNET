{
 "cells": [
  {
   "cell_type": "code",
   "execution_count": null,
   "metadata": {},
   "outputs": [],
   "source": [
    "%%html\n",
    "<style>\n",
    "h1 {\n",
    "  border: 1.5px solid #333;\n",
    "  padding: 8px 12px;\n",
    "  background-color:#a0cfc0;\n",
    "  position: static;\n",
    "}  \n",
    "h2 {\n",
    "  padding: 8px 12px;\n",
    "  background-color:#f0cfc0;\n",
    "  position: static;\n",
    "}   \n",
    "h3 {\n",
    "  padding: 4px 8px;\n",
    "  background-color:#f0cfc0;\n",
    "  position: static;\n",
    "}   \n",
    "</style>"
   ]
  },
  {
   "cell_type": "code",
   "execution_count": null,
   "metadata": {},
   "outputs": [],
   "source": [
    "%matplotlib inline\n",
    "import matplotlib.pyplot as plt\n",
    "plt.style.use('seaborn-whitegrid')\n",
    "import numpy as np"
   ]
  },
  {
   "cell_type": "code",
   "execution_count": null,
   "metadata": {},
   "outputs": [],
   "source": [
    "from IPython.display import Image, IFrame\n",
    "from IPython.core.display import HTML\n",
    "from IPython.display import Latex"
   ]
  },
  {
   "cell_type": "markdown",
   "metadata": {},
   "source": [
    "# Perceptron et theorie"
   ]
  },
  {
   "cell_type": "markdown",
   "metadata": {},
   "source": [
    "## Perceptron linéaire"
   ]
  },
  {
   "cell_type": "markdown",
   "metadata": {},
   "source": [
    "Un perceptron linéaire envoie une entrée $x \\in \\mathbb{R}^n$ sur une sortie $F(x) \\in \\mathbb{R}$. \n",
    "\n",
    "Cette fonction $F$ est décomposée en deux parties :"
   ]
  },
  {
   "cell_type": "markdown",
   "metadata": {},
   "source": [
    "1. **fonction linéaire** : définie par $n$ poids $a_1,...,a_n$ :\n",
    "$$f(x) = a_1x_1 + a_2x_2 +...+ a_n x_n$$"
   ]
  },
  {
   "cell_type": "markdown",
   "metadata": {},
   "source": [
    "Exemple : $n=2$, $(a_1,a_2) = (2,3)$ ce qui permet de définir $f(x_1,x_2) = 2x_1 + 3x_2$. Cela donne par exemple $f(4,-1) = 5$."
   ]
  },
  {
   "cell_type": "code",
   "execution_count": null,
   "metadata": {},
   "outputs": [],
   "source": [
    "x = np.array([4,-1])  #entrées\n",
    "a = np.array([..., ...])   #poids\n",
    "\n",
    "#fonction linéaire :\n",
    "def f(x,a):\n",
    "    return ..."
   ]
  },
  {
   "cell_type": "code",
   "execution_count": null,
   "metadata": {},
   "outputs": [],
   "source": [
    "print(f(x,a))"
   ]
  },
  {
   "cell_type": "markdown",
   "metadata": {},
   "source": [
    "2. **Fonction d'activation** : c'est une fonction $\\varphi \\colon \\mathbb{R} \\to \\mathbb{R}$."
   ]
  },
  {
   "cell_type": "markdown",
   "metadata": {},
   "source": [
    "#### Exemple : Fonction Heaviside"
   ]
  },
  {
   "cell_type": "code",
   "execution_count": null,
   "metadata": {},
   "outputs": [],
   "source": [
    "def H(y):\n",
    "    if ...:\n",
    "        return ...\n",
    "    else:\n",
    "        return ..."
   ]
  },
  {
   "cell_type": "code",
   "execution_count": null,
   "metadata": {},
   "outputs": [],
   "source": [
    "# tests de la fonction H\n",
    "H(-3)"
   ]
  },
  {
   "cell_type": "code",
   "execution_count": null,
   "metadata": {},
   "outputs": [],
   "source": [
    "H(f(x,a))"
   ]
  },
  {
   "cell_type": "code",
   "execution_count": null,
   "metadata": {},
   "outputs": [],
   "source": [
    "y = np.linspace(-6, 6, 300)\n",
    "z = np.array([H(t) for t in y])\n",
    "plt.plot(y, z, linewidth=7.0, color=\"red\")"
   ]
  },
  {
   "cell_type": "markdown",
   "metadata": {},
   "source": [
    "La sortie est un nombre $H(f(x)) \\in \\{0,1\\}$."
   ]
  },
  {
   "cell_type": "markdown",
   "metadata": {},
   "source": [
    "#### Exemple : fonction ReLu\n",
    "\n",
    "La Rectified Linear Unit function est définie ainsi :"
   ]
  },
  {
   "cell_type": "code",
   "execution_count": null,
   "metadata": {},
   "outputs": [],
   "source": [
    "def ReLu(y):\n",
    "    if y<0:\n",
    "        return ...\n",
    "    else:\n",
    "        return ..."
   ]
  },
  {
   "cell_type": "code",
   "execution_count": null,
   "metadata": {},
   "outputs": [],
   "source": [
    "y = np.linspace(-6, 6, 300)\n",
    "z = np.array([ReLu(t) for t in y])"
   ]
  },
  {
   "cell_type": "code",
   "execution_count": null,
   "metadata": {},
   "outputs": [],
   "source": [
    "plt.plot(y,z,linewidth=7.0,color=\"red\")"
   ]
  },
  {
   "cell_type": "markdown",
   "metadata": {},
   "source": [
    "#### Exemple : Sigmoïd function\n",
    "\n",
    "La fonction sigmoïde est définie ainsi :"
   ]
  },
  {
   "cell_type": "code",
   "execution_count": null,
   "metadata": {},
   "outputs": [],
   "source": [
    "def sigmoid(y):\n",
    "    return ..."
   ]
  },
  {
   "cell_type": "code",
   "execution_count": null,
   "metadata": {},
   "outputs": [],
   "source": [
    "y = np.linspace(-6,6,300)\n",
    "z = np.array([sigmoid(t) for t in y])"
   ]
  },
  {
   "cell_type": "code",
   "execution_count": null,
   "metadata": {},
   "outputs": [],
   "source": [
    "plt.plot(y,z,linewidth=7.0,color=\"red\")"
   ]
  },
  {
   "cell_type": "markdown",
   "metadata": {},
   "source": [
    "#### Exercice : calculer la dérivée de la fonction sigmoïde et tracer son graphe "
   ]
  },
  {
   "cell_type": "code",
   "execution_count": null,
   "metadata": {},
   "outputs": [],
   "source": [
    "# fonction dérivée exacte de la sigmoïde :\n",
    "def dsigmoid(y):\n",
    "    return ..."
   ]
  },
  {
   "cell_type": "code",
   "execution_count": null,
   "metadata": {},
   "outputs": [],
   "source": [
    "y = np.linspace(-6, 6, 300)\n",
    "z = np.array([sigmoid(t) for t in y])\n",
    "dz = np.array([dsigmoid(t) for t in y])\n",
    "#plt.plot(y,z,linewidth=7.0,color=\"red\")\n",
    "plt.plot(y,dz,linewidth=4.0,color=\"blue\")\n",
    "plt.show()"
   ]
  },
  {
   "cell_type": "markdown",
   "metadata": {},
   "source": [
    "### Neuron representation"
   ]
  },
  {
   "cell_type": "markdown",
   "metadata": {},
   "source": [
    "Un perceptron linéaire peut se représenter comme un **neurone** de cette manière : <img src=\"img/Perceptron1.png\" style=\"width:300px;height:150px;\"> </img> "
   ]
  },
  {
   "cell_type": "markdown",
   "metadata": {},
   "source": [
    "### Exemple :"
   ]
  },
  {
   "cell_type": "markdown",
   "metadata": {},
   "source": [
    "$n=2$, $(a_1,a_2) = (2,3)$ tel que $f(x_1,x_2) = 2x_1 + 3x_2$ et la fonction d'activiation Heaviside : la sortie est :\n",
    "\n",
    "- 1 si $... \\geq 0$ ;\n",
    "- 0 sinon"
   ]
  },
  {
   "cell_type": "code",
   "execution_count": null,
   "metadata": {},
   "outputs": [],
   "source": [
    "display(IFrame('https://www.geogebra.org/calculator/x63nersc?embed',900,400))"
   ]
  },
  {
   "cell_type": "markdown",
   "metadata": {},
   "source": [
    "#### Exercice\n",
    "Comment trouver un percpetron qui réalise la séparation des cercles bleu des cercles rouges ?\n",
    "https://www.geogebra.org/calculator/zmyaznwf"
   ]
  },
  {
   "cell_type": "code",
   "execution_count": null,
   "metadata": {},
   "outputs": [],
   "source": [
    "display(IFrame('https://www.geogebra.org/calculator/zmyaznwf?embed',600,400))"
   ]
  },
  {
   "cell_type": "markdown",
   "metadata": {},
   "source": [
    "## Perceptron affine"
   ]
  },
  {
   "cell_type": "markdown",
   "metadata": {},
   "source": [
    "On introduit un _biais_ $a_0$ : il s'agit d'un $(n+1)$-ème poids qui définit une fonction affine $f(x_1,...,x_n) = a_1x_1+...+a_nx_n + a_0$. On le représente graphiquement comme suit :\n",
    "<img src=\"img/Perceptron2.png\" style=\"width:300px;height:150px;\"> </img> \n",
    "\n",
    "Exemple : avec 2 entrées, un perceptron affine sépare un espace 2-dimensionnel en deux demi-plans."
   ]
  },
  {
   "cell_type": "markdown",
   "metadata": {},
   "source": [
    "## Théorie du perceptron"
   ]
  },
  {
   "cell_type": "markdown",
   "metadata": {},
   "source": [
    "### Booléens : ```OR```, ```AND```, ```XOR```"
   ]
  },
  {
   "cell_type": "markdown",
   "metadata": {},
   "source": [
    "En informatique, une variable booléenne est une variable $x$ qui a l'une des 2 valeurs possibles (VRAI ou FAUX). Dans une algèbre booléenne, si $x$ et $y$ sont booléens, nous pouvons définir ```x OU y```.\n",
    "\n",
    "Nous choisissons une représentation graphique : VRAI est le nombre 1, FAUX est le nombre 0, ```x OU y``` est un point avec les coordonnées $(x,y)$ dans le plan. Ce point est un carré rouge si ```x OU y = VRAI```, un cercle bleu sinon.\n",
    "\n",
    "<img src=\"img/or_perceptron1.png\"> </img> \n",
    "\n",
    "1. Puis-je réaliser cette opération ```x OU y``` avec un perceptron ?\n",
    "<div style=\"display: none\">\n",
    "<img src=\"img/or_perceptron2.png\"> </img> \n",
    "Oui ! Par exemple, prenons les poids $(a_1,a_2,a_0) = (1,1,-1)$. \n",
    "</div>\n",
    "\n",
    "2. De la même manière, puis-je réaliser l'opération ```x ET y``` avec un perceptron ?\n",
    "\n",
    "<div style=\"display: none\">\n",
    "<img src=\"img/and_perceptron1.png\"> </img> \n",
    "\n",
    "Oui ! Par exemple, prenons les poids $(a_1,a_2,a_0) = (1,1,-1.5)$. \n",
    "</div>\n",
    "\n",
    "3. De la même manière, puis-je réaliser l'opération ```x XOR y``` avec un perceptron ?\n",
    "<div style=\"display: none\">\n",
    "<img src=\"img/xor_perceptron.png\"> </img> \n",
    "Non ! Vous ne pouvez pas trouver une droite qui sépare ces deux types de points.'\n",
    "</div>\n"
   ]
  },
  {
   "cell_type": "markdown",
   "metadata": {},
   "source": [
    "Le problème se résume en la question de savoir si les ensembles de points sont **linéairement séparables**."
   ]
  },
  {
   "cell_type": "markdown",
   "metadata": {},
   "source": [
    "<div class=\"alert alert-success\" role=\"alert\">\n",
    "Dans un espace Euclidien de dimension $n$, deux ensembles de points $A$ et $B$ sont linéairement séparables si un hyperplan peut séparer l'espace : il existe $a_1,...,a_n,a_0$ tel que pour chaque $x \\in A$, $\\sum_{i=1}^n a_i x_i + a_0 > 0$ et pour chaque $x \\in B$, $\\sum_{i=1}^n a_i x_i + a_0 < 0$.  \n",
    "    Une autre façon de le dire est que leurs enveloppes convexes respectives sont disjointes.\n",
    "</div>\n",
    "\n",
    "<div class=\"alert alert-danger\" role=\"alert\">\t\n",
    "\n",
    "Dans un espace Euclidien de dimension $n$, deux ensembles de points $A$ et $B$ sont linéairement séparables s'il existe un perceptron qui prend la valeur 1 sur $A$ et 0 sur $B$.\n",
    "</div>\n",
    "\n"
   ]
  },
  {
   "cell_type": "markdown",
   "metadata": {},
   "source": [
    "Un perceptron est un **classifieur linéaire**."
   ]
  },
  {
   "cell_type": "markdown",
   "metadata": {},
   "source": [
    "#### Exercice \n",
    "\n",
    "Est-il possible de réaliser l'opération ```x OR y OR z``` avec un perceptron ?\n",
    "\n",
    "<div style=\"display: none\">\n",
    "\n",
    "Réponse : \n",
    "\n",
    "<img src=\"img/or_or_perceptron.png\"> </img> \n",
    "</div>"
   ]
  },
  {
   "cell_type": "code",
   "execution_count": null,
   "metadata": {},
   "outputs": [],
   "source": []
  }
 ],
 "metadata": {
  "kernelspec": {
   "display_name": "Python 3",
   "language": "python",
   "name": "python3"
  },
  "language_info": {
   "codemirror_mode": {
    "name": "ipython",
    "version": 3
   },
   "file_extension": ".py",
   "mimetype": "text/x-python",
   "name": "python",
   "nbconvert_exporter": "python",
   "pygments_lexer": "ipython3",
   "version": "3.7.4"
  }
 },
 "nbformat": 4,
 "nbformat_minor": 2
}
