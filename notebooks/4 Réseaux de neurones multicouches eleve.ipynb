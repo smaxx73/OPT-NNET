{
 "cells": [
  {
   "cell_type": "code",
   "execution_count": null,
   "metadata": {},
   "outputs": [],
   "source": [
    "%%html\n",
    "<style>\n",
    "h1 {\n",
    "  border: 1.5px solid #333;\n",
    "  padding: 8px 12px;\n",
    "  background-color:#a0cfc0;\n",
    "  position: static;\n",
    "}  \n",
    "h2 {\n",
    "  padding: 8px 12px;\n",
    "  background-color:#f0cfc0;\n",
    "  position: static;\n",
    "}   \n",
    "h3 {\n",
    "  padding: 4px 8px;\n",
    "  background-color:#f0cfc0;\n",
    "  position: static;\n",
    "}   \n",
    "</style>"
   ]
  },
  {
   "cell_type": "code",
   "execution_count": null,
   "metadata": {},
   "outputs": [],
   "source": [
    "%matplotlib inline\n",
    "import matplotlib.pyplot as plt\n",
    "plt.style.use('seaborn-whitegrid')\n",
    "import numpy as np"
   ]
  },
  {
   "cell_type": "code",
   "execution_count": null,
   "metadata": {},
   "outputs": [],
   "source": [
    "from IPython.display import Image, IFrame\n",
    "from IPython.core.display import HTML\n",
    "from IPython.display import Latex"
   ]
  },
  {
   "cell_type": "markdown",
   "metadata": {},
   "source": [
    "# Réseau de neurones"
   ]
  },
  {
   "cell_type": "markdown",
   "metadata": {},
   "source": [
    "## 1. Couche"
   ]
  },
  {
   "cell_type": "markdown",
   "metadata": {},
   "source": [
    "Maintenant, étant donné une entrée $(x_1,...,x_n)$, on organise plusieurs perceptrons en **couches**. "
   ]
  },
  {
   "cell_type": "markdown",
   "metadata": {},
   "source": [
    "<img src=\"https://www.researchgate.net/profile/Facundo_Bre/publication/321259051/figure/fig1/AS:614329250496529@1523478915726/Artificial-neural-network-architecture-ANN-i-h-1-h-2-h-n-o.png\"> </img>"
   ]
  },
  {
   "cell_type": "markdown",
   "metadata": {},
   "source": [
    "#### Exemple 0 : un réseau de neurones avec 2 couches : 2 neurones (perceptron linéaire avec fonction d'activation ReLu) sur la 1ère couche, 1 neurone (perceptron affine avec fonction d'activation Heaviside) sur la 2ème couche.\n",
    "\n",
    "<img src=\"img/neural_layer_ex1.png\"> </img>\n",
    "\n",
    "**Exercice** : vérifier que la sortie est $1$ si l'entrée est $(4,7)$.\n",
    "\n",
    "_Conseil_ : nous pouvons utiliser un produit matriciel : en Python, $A \\times B$ est calculé avec cette commande : ```np.dot(A,B)```\n"
   ]
  },
  {
   "cell_type": "code",
   "execution_count": null,
   "metadata": {},
   "outputs": [],
   "source": [
    "# Définition des fonctions d'activation\n",
    "def ReLu(y):\n",
    "    if y<0:\n",
    "        return 0\n",
    "    else:\n",
    "        return y\n",
    "\n",
    "def H(y):\n",
    "    if y<0:\n",
    "        return 0\n",
    "    else:\n",
    "        return 1"
   ]
  },
  {
   "cell_type": "code",
   "execution_count": null,
   "metadata": {},
   "outputs": [],
   "source": [
    "X = np.array([4, 7]) #entrée\n",
    "\n",
    "W1 = np.array([[2, -1],[-3, 2]])\n",
    "Y1 = ...\n",
    "Y1 = [ReLu(y) for y in Y1]\n",
    "W2 = ...\n",
    "b2 = ...\n",
    "Y2 = ...\n",
    "Y2 = H(Y2)\n",
    "print(Y2)"
   ]
  },
  {
   "cell_type": "markdown",
   "metadata": {},
   "source": [
    "### Exemple 1\n",
    "<img src=\"img/neural_layer_ex2.png\"> </img>\n",
    "\n"
   ]
  },
  {
   "cell_type": "markdown",
   "metadata": {},
   "source": [
    "#### 1ère couche, 1er neurone :\n",
    "Est actif si $-x+3y \\geq 0$."
   ]
  },
  {
   "cell_type": "code",
   "execution_count": null,
   "metadata": {},
   "outputs": [],
   "source": [
    "x=np.linspace(-6, 6, 300)\n",
    "y=np.array([t / 3 for t in x])\n",
    "plt.plot(x, y, 'k--')\n",
    "plt.fill_between(x, y, np.max(y) + 2, color = \"green\", alpha = 0.5)\n",
    "\n",
    "plt.axis('equal')\n",
    "plt.axis([-5, 5, -3, 3])\n",
    "plt.show()"
   ]
  },
  {
   "cell_type": "markdown",
   "metadata": {},
   "source": [
    "#### 1st layer, 2nd neuron :\n",
    "Is active if $2x+y \\geq 0$."
   ]
  },
  {
   "cell_type": "code",
   "execution_count": null,
   "metadata": {},
   "outputs": [],
   "source": [
    "x = np.linspace(-6, 6, 300)\n",
    "z = np.array([... for t in x])\n",
    "plt.plot(x, z, 'k--')\n",
    "plt.fill_between(x, z, np.max(z), color=\"green\", alpha=0.5)\n",
    "\n",
    "plt.axis('equal')\n",
    "plt.axis([-5, 5, -3, 3])\n",
    "plt.show()\n"
   ]
  },
  {
   "cell_type": "markdown",
   "metadata": {},
   "source": [
    "#### 2ème couche, un neurone :\n",
    "\n",
    "Ce perceptron réalise la fonction booléene ```x AND y``` (c.f. voir cours précédent)."
   ]
  },
  {
   "cell_type": "markdown",
   "metadata": {},
   "source": [
    "#### Résultat des deux couches :\n",
    "\n",
    "Le réseau de neurones a une sortie égale à $1$ à l'**intersection** des deux demi-plans où les neurones de la première couche sont égaux à $1$.\n"
   ]
  },
  {
   "cell_type": "code",
   "execution_count": null,
   "metadata": {},
   "outputs": [],
   "source": [
    "x = np.linspace(-6, 6, 300)\n",
    "y = np.array([... for t in x])\n",
    "z = np.array([... for t in x])\n",
    "plt.plot(x, y, 'k--')\n",
    "plt.plot(x, z, 'k--')\n",
    "plt.fill_between(x, y, np.max(y) + 2, color=\"green\", alpha=0.3)\n",
    "plt.fill_between(x, z, np.max(z), color=\"green\", alpha=0.3)\n",
    "plt.fill_between(x, z, np.max(z), where=y < z, color=\"red\", alpha=1)\n",
    "plt.fill_between(x, y, np.max(z), where=y > z, color=\"red\", alpha=1)\n",
    "plt.axis('equal')\n",
    "plt.axis([-5, 5, -3, 3])\n",
    "plt.show()\n"
   ]
  },
  {
   "cell_type": "markdown",
   "metadata": {},
   "source": [
    "### Exemple 2\n",
    "<img src=\"img/neural_layer_ex3.png\"> </img>\n",
    "\n"
   ]
  },
  {
   "cell_type": "code",
   "execution_count": null,
   "metadata": {},
   "outputs": [],
   "source": [
    "x = np.linspace(-6, 6, 300)\n",
    "y = np.array([t / 3 for t in x])\n",
    "z = np.array([-2 * t for t in x])\n",
    "plt.plot(x, y, 'k--')\n",
    "plt.plot(x, z, 'k--')\n",
    "plt.fill_between(x, y, np.max(y) + 2, color=\"red\", alpha=1)\n",
    "plt.fill_between(x, z, np.max(z), color=\"red\", alpha=1)\n",
    "# plt.fill_between(x, z, np.max(z), where=y<z, color=\"red\", alpha=0.5)\n",
    "# plt.fill_between(x, y, np.max(z), where=y>z, color=\"red\", alpha=0.5)\n",
    "plt.axis('equal')\n",
    "plt.axis([-5, 5, -3, 3])\n",
    "plt.show()\n"
   ]
  },
  {
   "cell_type": "markdown",
   "metadata": {},
   "source": [
    "Ce réseau de neurones envoie en sortie la valeur $1$ si l'entrée est dans l'__union__ des deux demi plans définis par la première couche. "
   ]
  },
  {
   "cell_type": "markdown",
   "metadata": {},
   "source": [
    "### Exercice :\n",
    "Trouve un réseau de neurones donnant en sortie 1 sur la zone rouge, 0 sinon.\n",
    "<img src=\"img/neural_layer_ex4.png\"> </img>"
   ]
  },
  {
   "cell_type": "code",
   "execution_count": null,
   "metadata": {},
   "outputs": [],
   "source": [
    "# Fonction d'activation\n",
    "def ...\n",
    "\n",
    "# Fonction réalisant le réseau de neurones\n",
    "def nnetwork(x, y):\n",
    "    X = np.array([x, y])\n",
    "    W1 = ...\n",
    "    B1 = ...\n",
    "    W2 = ...\n",
    "    B2 = ...\n",
    "    layer1 = ...\n",
    "    layer1 = ...\n",
    "    layer2 = ...\n",
    "    layer2 = ...\n",
    "    output = ...\n",
    "    return output\n",
    "\n"
   ]
  },
  {
   "cell_type": "code",
   "execution_count": null,
   "metadata": {},
   "outputs": [],
   "source": [
    "# Vérification : on réalise nnetwork sur un ensemble de points qui prend la couleur rouge lorsque output = 1\n",
    "n = 100\n",
    "xmin = -6\n",
    "xmax = 5\n",
    "ymin = -5\n",
    "ymax = 5\n",
    "X = np.linspace(xmin, xmax, n)\n",
    "Y = np.linspace(ymin, ymax, n)\n",
    "for x in X:\n",
    "    for y in Y:\n",
    "        if nnetwork(x, y) == 1:\n",
    "            plt.plot(x, y, '.r')\n",
    "plt.axis('equal')\n",
    "plt.axis([xmin, xmax, ymin, ymax])\n",
    "xtick = np.linspace(xmin, xmax, xmax - xmin + 1)\n",
    "ytick = np.linspace(ymin, ymax, ymax - ymin + 1)\n",
    "plt.xticks(xtick)\n",
    "plt.yticks(ytick)\n",
    "plt.show()\n"
   ]
  },
  {
   "cell_type": "markdown",
   "metadata": {},
   "source": [
    "## 2. Théorie"
   ]
  },
  {
   "cell_type": "markdown",
   "metadata": {},
   "source": [
    "### Comment réaliser ```XOR``` ?"
   ]
  },
  {
   "cell_type": "markdown",
   "metadata": {},
   "source": [
    "#### Exercice :\n",
    "Nous avons vu qu'un seul neurone n'est pas suffisant pour réaliser l'opération ```XOR```. Trouvez un réseau de neurones à deux couches qui réalise l'opération ```XOR```.\n"
   ]
  },
  {
   "cell_type": "markdown",
   "metadata": {},
   "source": [
    "Réponse : \n",
    "<img style=\"display: none\" src=\"img/xor_neuralnetwork.png\"></img>"
   ]
  },
  {
   "cell_type": "markdown",
   "metadata": {},
   "source": [
    "### Ensemble réalisables : définition et propriétés"
   ]
  },
  {
   "cell_type": "markdown",
   "metadata": {},
   "source": [
    "<div class=\"alert alert-success\" role=\"alert\">\n",
    "Un ensemble $A$ est NN-réalisable s'il existe un réseau de neurones dont la sortie donne la valeur $1$ sur $A$, $0$ sinon.\n",
    "   </div>"
   ]
  },
  {
   "cell_type": "markdown",
   "metadata": {},
   "source": [
    "<div class=\"alert alert-danger\" role=\"alert\">\n",
    "Tout $n$-polygone de $\\mathbb{R}^2$ est NN-réalisable avec $n+1$ neurones. \n",
    "   </div>"
   ]
  },
  {
   "cell_type": "markdown",
   "metadata": {},
   "source": [
    "<div class=\"alert alert-danger\" role=\"alert\">\n",
    "Si $A$ et $B$ sont deux ensembles NN-réalisables alors :\n",
    "   <ol> \n",
    "       <li> $A \\cup B$ est NN-réalisable  ;</li>\n",
    "    <li> $A \\cap B$ est NN-réalisable ;</li>  \n",
    "    <li> $\\overline{A}$ est NN-réalisable ;</li>\n",
    "    <li> $A \\backslash B$ est NN-réalisable.</li>\n",
    "    </ol>\n",
    "    </div>"
   ]
  },
  {
   "cell_type": "markdown",
   "metadata": {},
   "source": [
    "<div class=\"alert alert-danger\" role=\"alert\">\n",
    "Tout  polygone de $\\mathbb{R}^2$ est NN-realizable. Ainsi, tout courbe de Jordan (simple closed curve) peut être approchée par un réseau de neurones. \n",
    "   </div>"
   ]
  },
  {
   "cell_type": "markdown",
   "metadata": {},
   "source": [
    "### Théorème d'approximation universel \n",
    "But : approcher toute fonction continue $\\mathbb{R} \\to \\mathbb{R}$ par un réseau de neurones. Plus précisément, soit $f \\colon [a;b] \\to \\mathbb{R}$ : on veut trouver un réseau de neurones dont la sortie $F(x) \\approx f(x)$ pour tout $x \\in [a;b]$. Pour cela, on suppose que la fonction d'activation de la sortie est l'identité $x \\mapsto x$. Les autres neurones sont la fonction Heaviside."
   ]
  },
  {
   "cell_type": "markdown",
   "metadata": {},
   "source": [
    "#### Heaviside step functions"
   ]
  },
  {
   "cell_type": "markdown",
   "metadata": {},
   "source": [
    "Premier cas trivial :\n",
    "<img src=\"img/step_function1.png\"></img>\n",
    "\n",
    "On décale vers la gauche :\n",
    "<img src=\"img/step_function2.png\"></img>\n",
    "\n",
    "ou à droite :\n",
    "<img src=\"img/step_function3.png\"></img>\n",
    "\n",
    "Pour réaliser une marche vers le bas : <img src=\"img/step_function4.png\"></img>\n",
    "<img src=\"img/step_function5.png\"></img>"
   ]
  },
  {
   "cell_type": "markdown",
   "metadata": {},
   "source": [
    "#### Fonction rectangulaire\n",
    "On ajoute simplement deux fonctions marche\n",
    "<img src=\"img/rect_function.png\"></img>"
   ]
  },
  {
   "cell_type": "markdown",
   "metadata": {},
   "source": [
    "#### Fonctions en escalier\n",
    "Il suffit d'ajouter des fonctions rectangulaires.\n",
    "<img src=\"img/step_function6.png\"></img>"
   ]
  },
  {
   "cell_type": "markdown",
   "metadata": {},
   "source": [
    "**Exercice :** programmer ce réseau de neurones et afficher le graphe de la fonction ainsi définie."
   ]
  },
  {
   "cell_type": "markdown",
   "metadata": {},
   "source": [
    "#### Fonctions continues\n",
    "On note que toute fonction continue $[a;b] \\to \\mathbb{R}$ peut être approchée uniformément par une fonction en escalier.\n",
    "\n",
    "<img src=\"img/approx_function.png\"></img>"
   ]
  },
  {
   "cell_type": "markdown",
   "metadata": {},
   "source": [
    "### En dimension supérieure"
   ]
  },
  {
   "cell_type": "markdown",
   "metadata": {},
   "source": [
    "#### Exercice :\n",
    "Trouver un réseau de neurone qui réalise la fonction de deux variables dont voici une représentation graphique : \n",
    "\n",
    "<img src=\"img/step_function7.png\"></img>"
   ]
  },
  {
   "cell_type": "code",
   "execution_count": null,
   "metadata": {},
   "outputs": [],
   "source": []
  }
 ],
 "metadata": {
  "kernelspec": {
   "display_name": "Python 3",
   "language": "python",
   "name": "python3"
  },
  "language_info": {
   "codemirror_mode": {
    "name": "ipython",
    "version": 3
   },
   "file_extension": ".py",
   "mimetype": "text/x-python",
   "name": "python",
   "nbconvert_exporter": "python",
   "pygments_lexer": "ipython3",
   "version": "3.7.4"
  }
 },
 "nbformat": 4,
 "nbformat_minor": 4
}
