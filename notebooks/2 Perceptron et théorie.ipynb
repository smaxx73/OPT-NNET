{
 "cells": [
  {
   "cell_type": "code",
   "execution_count": 1,
   "metadata": {},
   "outputs": [
    {
     "data": {
      "text/html": [
       "<style>\n",
       "h1 {\n",
       "  border: 1.5px solid #333;\n",
       "  padding: 8px 12px;\n",
       "  background-color:#a0cfc0;\n",
       "  position: static;\n",
       "}  \n",
       "h2 {\n",
       "  padding: 8px 12px;\n",
       "  background-color:#f0cfc0;\n",
       "  position: static;\n",
       "}   \n",
       "h3 {\n",
       "  padding: 4px 8px;\n",
       "  background-color:#f0cfc0;\n",
       "  position: static;\n",
       "}   \n",
       "</style>\n"
      ],
      "text/plain": [
       "<IPython.core.display.HTML object>"
      ]
     },
     "metadata": {},
     "output_type": "display_data"
    }
   ],
   "source": [
    "%%html\n",
    "<style>\n",
    "h1 {\n",
    "  border: 1.5px solid #333;\n",
    "  padding: 8px 12px;\n",
    "  background-color:#a0cfc0;\n",
    "  position: static;\n",
    "}  \n",
    "h2 {\n",
    "  padding: 8px 12px;\n",
    "  background-color:#f0cfc0;\n",
    "  position: static;\n",
    "}   \n",
    "h3 {\n",
    "  padding: 4px 8px;\n",
    "  background-color:#f0cfc0;\n",
    "  position: static;\n",
    "}   \n",
    "</style>"
   ]
  },
  {
   "cell_type": "code",
   "execution_count": 2,
   "metadata": {},
   "outputs": [],
   "source": [
    "%matplotlib inline\n",
    "import matplotlib.pyplot as plt\n",
    "plt.style.use('seaborn-whitegrid')\n",
    "import numpy as np"
   ]
  },
  {
   "cell_type": "code",
   "execution_count": 3,
   "metadata": {},
   "outputs": [],
   "source": [
    "from IPython.display import Image, IFrame\n",
    "from IPython.core.display import HTML\n",
    "from IPython.display import Latex"
   ]
  },
  {
   "cell_type": "markdown",
   "metadata": {},
   "source": [
    "# Perceptron et theorie"
   ]
  },
  {
   "cell_type": "markdown",
   "metadata": {},
   "source": [
    "## Perceptron linéaire"
   ]
  },
  {
   "cell_type": "markdown",
   "metadata": {},
   "source": [
    "Un perceptron linéaire envoie une entrée $x \\in \\mathbb{R}^n$ sur une sortie $F(x) \\in \\mathbb{R}$. \n",
    "\n",
    "Cette fonction $F$ est décomposée en deux parties :"
   ]
  },
  {
   "cell_type": "markdown",
   "metadata": {},
   "source": [
    "1. **fonction linéaire** : définie par $n$ poids $a_1,...,a_n$ :\n",
    "$$f(x) = a_1x_1 + a_2x_2 +...+ a_n x_n$$"
   ]
  },
  {
   "cell_type": "markdown",
   "metadata": {},
   "source": [
    "Exemple : $n=2$, $(a_1,a_2) = (2,3)$ ce qui permet de définir $f(x_1,x_2) = 2x_1 + 3x_2$. Cela donne par exemple $f(4,-1) = 5$."
   ]
  },
  {
   "cell_type": "code",
   "execution_count": 4,
   "metadata": {},
   "outputs": [],
   "source": [
    "x = np.array([4,-1])  #n-vector x\n",
    "a = np.array([2,3])   #n weights"
   ]
  },
  {
   "cell_type": "code",
   "execution_count": 5,
   "metadata": {},
   "outputs": [],
   "source": [
    "def f(x,a):\n",
    "    return np.dot(x,a)"
   ]
  },
  {
   "cell_type": "code",
   "execution_count": 6,
   "metadata": {},
   "outputs": [
    {
     "name": "stdout",
     "output_type": "stream",
     "text": [
      "5\n"
     ]
    }
   ],
   "source": [
    "print(f(x,a))"
   ]
  },
  {
   "cell_type": "markdown",
   "metadata": {},
   "source": [
    "2. **Fonction d'activation** : c'est une fonction $\\varphi \\colon \\mathbb{R} \\to \\mathbb{R}$."
   ]
  },
  {
   "cell_type": "markdown",
   "metadata": {},
   "source": [
    "#### Exemple : Heaviside function"
   ]
  },
  {
   "cell_type": "code",
   "execution_count": 7,
   "metadata": {},
   "outputs": [],
   "source": [
    "def H(y):\n",
    "    if y<0:\n",
    "        return 0\n",
    "    else:\n",
    "        return 1"
   ]
  },
  {
   "cell_type": "code",
   "execution_count": 8,
   "metadata": {},
   "outputs": [
    {
     "data": {
      "text/plain": [
       "0"
      ]
     },
     "execution_count": 8,
     "metadata": {},
     "output_type": "execute_result"
    }
   ],
   "source": [
    "H(-3)"
   ]
  },
  {
   "cell_type": "code",
   "execution_count": 9,
   "metadata": {},
   "outputs": [
    {
     "data": {
      "text/plain": [
       "1"
      ]
     },
     "execution_count": 9,
     "metadata": {},
     "output_type": "execute_result"
    }
   ],
   "source": [
    "H(f(x,a))"
   ]
  },
  {
   "cell_type": "code",
   "execution_count": 10,
   "metadata": {},
   "outputs": [
    {
     "data": {
      "text/plain": [
       "[<matplotlib.lines.Line2D at 0x2947c5f7248>]"
      ]
     },
     "execution_count": 10,
     "metadata": {},
     "output_type": "execute_result"
    },
    {
     "data": {
      "image/png": "[encoded data removed]",
      "text/plain": [
       "<Figure size 432x288 with 1 Axes>"
      ]
     },
     "metadata": {
      "needs_background": "light"
     },
     "output_type": "display_data"
    }
   ],
   "source": [
    "y = np.linspace(-6,6,300)\n",
    "z = np.array([H(t) for t in y])\n",
    "plt.plot(y,z,linewidth=7.0,color=\"red\")"
   ]
  },
  {
   "cell_type": "markdown",
   "metadata": {},
   "source": [
    "La sortie est un nombre $H(f(x)) \\in \\{0,1\\}$."
   ]
  },
  {
   "cell_type": "markdown",
   "metadata": {},
   "source": [
    "#### Exemple : ReLu function\n",
    "\n",
    "The Rectified Linear Unit function est définie ainsi :"
   ]
  },
  {
   "cell_type": "code",
   "execution_count": 11,
   "metadata": {},
   "outputs": [],
   "source": [
    "def ReLu(y):\n",
    "    if y<0:\n",
    "        return 0\n",
    "    else:\n",
    "        return y"
   ]
  },
  {
   "cell_type": "code",
   "execution_count": 12,
   "metadata": {},
   "outputs": [],
   "source": [
    "y = np.linspace(-6,6,300)\n",
    "z = np.array([ReLu(t) for t in y])"
   ]
  },
  {
   "cell_type": "code",
   "execution_count": 13,
   "metadata": {},
   "outputs": [
    {
     "data": {
      "text/plain": [
       "[<matplotlib.lines.Line2D at 0x2947c83c8c8>]"
      ]
     },
     "execution_count": 13,
     "metadata": {},
     "output_type": "execute_result"
    },
    {
     "data": {
      "image/png": "[encoded data removed]",
      "text/plain": [
       "<Figure size 432x288 with 1 Axes>"
      ]
     },
     "metadata": {
      "needs_background": "light"
     },
     "output_type": "display_data"
    }
   ],
   "source": [
    "plt.plot(y,z,linewidth=7.0,color=\"red\")"
   ]
  },
  {
   "cell_type": "markdown",
   "metadata": {},
   "source": [
    "#### Exemple : Sigmoïd function\n",
    "\n",
    "La fonction sigmoïde est définie ainsi :"
   ]
  },
  {
   "cell_type": "code",
   "execution_count": 14,
   "metadata": {},
   "outputs": [],
   "source": [
    "def sigmoid(y):\n",
    "    return 1/(1+np.exp(-y))"
   ]
  },
  {
   "cell_type": "code",
   "execution_count": 15,
   "metadata": {},
   "outputs": [],
   "source": [
    "y = np.linspace(-6,6,300)\n",
    "z = np.array([sigmoid(t) for t in y])"
   ]
  },
  {
   "cell_type": "code",
   "execution_count": 16,
   "metadata": {},
   "outputs": [
    {
     "data": {
      "text/plain": [
       "[<matplotlib.lines.Line2D at 0x2947c8b4508>]"
      ]
     },
     "execution_count": 16,
     "metadata": {},
     "output_type": "execute_result"
    },
    {
     "data": {
      "image/png": "[encoded data removed]",
      "text/plain": [
       "<Figure size 432x288 with 1 Axes>"
      ]
     },
     "metadata": {
      "needs_background": "light"
     },
     "output_type": "display_data"
    }
   ],
   "source": [
    "plt.plot(y,z,linewidth=7.0,color=\"red\")"
   ]
  },
  {
   "cell_type": "markdown",
   "metadata": {},
   "source": [
    "#### Exercice : calculer la dérivée de la fonction sigmoïde et tracer son graphe "
   ]
  },
  {
   "cell_type": "code",
   "execution_count": 17,
   "metadata": {},
   "outputs": [],
   "source": [
    "def dsigmoid(y):\n",
    "    return np.exp(-y) / (1 + np.exp(-y))**2"
   ]
  },
  {
   "cell_type": "code",
   "execution_count": 18,
   "metadata": {},
   "outputs": [
    {
     "data": {
      "image/png": "[encoded data removed]",
      "text/plain": [
       "<Figure size 432x288 with 1 Axes>"
      ]
     },
     "metadata": {
      "needs_background": "light"
     },
     "output_type": "display_data"
    }
   ],
   "source": [
    "y = np.linspace(-6,6,300)\n",
    "z = np.array([sigmoid(t) for t in y])\n",
    "dz = np.array([dsigmoid(t) for t in y])\n",
    "#plt.plot(y,z,linewidth=7.0,color=\"red\")\n",
    "plt.plot(y,dz,linewidth=4.0,color=\"blue\")\n",
    "plt.show()"
   ]
  },
  {
   "cell_type": "markdown",
   "metadata": {},
   "source": [
    "### Neuron representation"
   ]
  },
  {
   "cell_type": "markdown",
   "metadata": {},
   "source": [
    "Un perceptron linéaire peut se représenter comme un **neurone** de cette manière : <img src=\"img/Perceptron1.png\" style=\"width:300px;height:150px;\"> </img> "
   ]
  },
  {
   "cell_type": "markdown",
   "metadata": {},
   "source": [
    "### Exemple :"
   ]
  },
  {
   "cell_type": "markdown",
   "metadata": {},
   "source": [
    "$n=2$, $(a_1,a_2) = (2,3)$ tel que $f(x_1,x_2) = 2x_1 + 3x_2$ et la fonction d'activiation Heaviside : la sortie est :\n",
    "\n",
    "- 1 si $2x_1+3x_2 \\geq 0$ ;\n",
    "- 0 sinon"
   ]
  },
  {
   "cell_type": "code",
   "execution_count": 19,
   "metadata": {},
   "outputs": [
    {
     "data": {
      "text/html": [
       "\n",
       "        <iframe\n",
       "            width=\"900\"\n",
       "            height=\"400\"\n",
       "            src=\"https://www.geogebra.org/calculator/x63nersc?embed\"\n",
       "            frameborder=\"0\"\n",
       "            allowfullscreen\n",
       "        ></iframe>\n",
       "        "
      ],
      "text/plain": [
       "<IPython.lib.display.IFrame at 0x2947c8f0f48>"
      ]
     },
     "metadata": {},
     "output_type": "display_data"
    }
   ],
   "source": [
    "display(IFrame('https://www.geogebra.org/calculator/x63nersc?embed',900,400))"
   ]
  },
  {
   "cell_type": "markdown",
   "metadata": {},
   "source": [
    "#### Exercice\n",
    "Comment trouver un percpetron qui réalise la séparation des cercles bleu des cercles rouges ?\n",
    "https://www.geogebra.org/calculator/zmyaznwf"
   ]
  },
  {
   "cell_type": "code",
   "execution_count": 20,
   "metadata": {},
   "outputs": [
    {
     "data": {
      "text/html": [
       "\n",
       "        <iframe\n",
       "            width=\"600\"\n",
       "            height=\"400\"\n",
       "            src=\"https://www.geogebra.org/calculator/zmyaznwf?embed\"\n",
       "            frameborder=\"0\"\n",
       "            allowfullscreen\n",
       "        ></iframe>\n",
       "        "
      ],
      "text/plain": [
       "<IPython.lib.display.IFrame at 0x2947c937148>"
      ]
     },
     "metadata": {},
     "output_type": "display_data"
    }
   ],
   "source": [
    "display(IFrame('https://www.geogebra.org/calculator/zmyaznwf?embed',600,400))"
   ]
  },
  {
   "cell_type": "markdown",
   "metadata": {},
   "source": [
    "## Perceptron affine"
   ]
  },
  {
   "cell_type": "markdown",
   "metadata": {},
   "source": [
    "On introduit un _biais_ $a_0$ : il s'agit d'un $(n+1)$-ème poids qui définit une fonction affine $f(x_1,...,x_n) = a_1x_1+...+a_nx_n + a_0$. On le représente graphiquement comme suit :\n",
    "<img src=\"img/Perceptron2.png\" style=\"width:300px;height:150px;\"> </img> \n",
    "\n",
    "Exemple : avec 2 entrées, un perceptron affine sépare un espace 2-dimensionnel en deux demi-plans."
   ]
  },
  {
   "cell_type": "markdown",
   "metadata": {},
   "source": [
    "## Théorie du perceptron"
   ]
  },
  {
   "cell_type": "markdown",
   "metadata": {},
   "source": [
    "### Booléens : Or, and, xor"
   ]
  },
  {
   "cell_type": "markdown",
   "metadata": {},
   "source": [
    "En informatique, une variable booléenne est une variable $x$ qui a l'une des 2 valeurs possibles (VRAI ou FAUX). Dans une algèbre booléenne, si $x$ et $y$ sont booléens, nous pouvons définir ```x OU y```.\n",
    "\n",
    "Nous choisissons une représentation graphique : VRAI est le nombre 1, FAUX est le nombre 0, ```x OU y``` est un point avec les coordonnées $(x,y)$ dans le plan. Ce point est un carré rouge si ```x OU y = VRAI```, un cercle bleu sinon.\n",
    "\n",
    "<img src=\"img/or_perceptron1.png\"> </img> \n",
    "\n",
    "1. Puis-je réaliser cette opération ```x OU y``` avec un perceptron ?\n",
    "\n",
    "<img src=\"img/or_perceptron2.png\"> </img> \n",
    "\n",
    "Oui ! Par exemple, prenons les poids $(a_1,a_2,a_0) = (1,1,-1)$. \n",
    "\n",
    "2. De la même manière, puis-je réaliser l'opération ```x ET y``` avec un perceptron ?\n",
    "\n",
    "<img src=\"img/and_perceptron1.png\"> </img> \n",
    "\n",
    "Oui ! Par exemple, prenons les poids $(a_1,a_2,a_0) = (1,1,-1.5)$. \n",
    "\n",
    "3. De la même manière, puis-je réaliser l'opération ```x XOR y``` avec un perceptron ?\n",
    "\n",
    "<img src=\"img/xor_perceptron.png\"> </img> \n",
    "\n",
    "Non ! Vous ne pouvez pas trouver une droite qui sépare ces deux types de points.'"
   ]
  },
  {
   "cell_type": "markdown",
   "metadata": {},
   "source": [
    "Le problème se résume en la question de savoir si les ensembles de points sont **linéairement séparables**."
   ]
  },
  {
   "cell_type": "markdown",
   "metadata": {},
   "source": [
    "<div class=\"alert alert-success\" role=\"alert\">\n",
    "Dans un espace Euclidien de dimension $n$, deux ensembles de points $A$ et $B$ sont linéairement séparables si un hyperplan peut séparer l'espace : il existe $a_1,...,a_n,a_0$ tel que pour chaque $x \\in A$, $\\sum_{i=1}^n a_i x_i + a_0 > 0$ et pour chaque $x \\in B$, $\\sum_{i=1}^n a_i x_i + a_0 < 0$.  \n",
    "    Une autre façon de le dire est que leurs enveloppes convexes respectives sont disjointes.\n",
    "</div>\n",
    "\n",
    "<div class=\"alert alert-danger\" role=\"alert\">\t\n",
    "\n",
    "Dans un espace Euclidien de dimension $n$, deux ensembles de points $A$ et $B$ sont linéairement séparables s'il existe un perceptron qui prend la valeur 1 sur $A$ et 0 sur $B$.\n",
    "</div>\n",
    "\n"
   ]
  },
  {
   "cell_type": "markdown",
   "metadata": {},
   "source": [
    "Un perceptron est un **classifieur linéaire**."
   ]
  },
  {
   "cell_type": "markdown",
   "metadata": {},
   "source": [
    "#### Exercice \n",
    "\n",
    "Est-il possible de réaliser l'opération ```x OR y OR z``` avec un perceptron ?\n",
    "\n",
    "Réponse : \n",
    "\n",
    "<img src=\"img/or_or_perceptron.png\"> </img> "
   ]
  },
  {
   "cell_type": "code",
   "execution_count": null,
   "metadata": {},
   "outputs": [],
   "source": []
  }
 ],
 "metadata": {
  "kernelspec": {
   "display_name": "Python 3",
   "language": "python",
   "name": "python3"
  },
  "language_info": {
   "codemirror_mode": {
    "name": "ipython",
    "version": 3
   },
   "file_extension": ".py",
   "mimetype": "text/x-python",
   "name": "python",
   "nbconvert_exporter": "python",
   "pygments_lexer": "ipython3",
   "version": "3.7.4"
  }
 },
 "nbformat": 4,
 "nbformat_minor": 2
}
