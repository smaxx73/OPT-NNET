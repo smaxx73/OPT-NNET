{
 "cells": [
  {
   "cell_type": "code",
   "execution_count": 1,
   "metadata": {},
   "outputs": [
    {
     "data": {
      "text/html": [
       "<style>\n",
       "h1 {\n",
       "  border: 1.5px solid #333;\n",
       "  padding: 8px 12px;\n",
       "  background-color:#a0cfc0;\n",
       "  position: static;\n",
       "}  \n",
       "h2 {\n",
       "  padding: 8px 12px;\n",
       "  background-color:#f0cfc0;\n",
       "  position: static;\n",
       "}   \n",
       "h3 {\n",
       "  padding: 4px 8px;\n",
       "  background-color:#f0cfc0;\n",
       "  position: static;\n",
       "}   \n",
       "</style>\n"
      ],
      "text/plain": [
       "<IPython.core.display.HTML object>"
      ]
     },
     "metadata": {},
     "output_type": "display_data"
    }
   ],
   "source": [
    "%%html\n",
    "<style>\n",
    "h1 {\n",
    "  border: 1.5px solid #333;\n",
    "  padding: 8px 12px;\n",
    "  background-color:#a0cfc0;\n",
    "  position: static;\n",
    "}  \n",
    "h2 {\n",
    "  padding: 8px 12px;\n",
    "  background-color:#f0cfc0;\n",
    "  position: static;\n",
    "}   \n",
    "h3 {\n",
    "  padding: 4px 8px;\n",
    "  background-color:#f0cfc0;\n",
    "  position: static;\n",
    "}   \n",
    "</style>"
   ]
  },
  {
   "cell_type": "code",
   "execution_count": 2,
   "metadata": {},
   "outputs": [],
   "source": [
    "import numpy as np\n",
    "import matplotlib.pyplot as plt"
   ]
  },
  {
   "cell_type": "markdown",
   "metadata": {},
   "source": [
    "## 1. Règle d'apprentissage pour un réseau à une couche\n",
    "\n",
    "Soit $W$ la matrice des poids : chaque ligne correspond à un neurone de la couche. Soit $b$ la matrice colonne des biais : chaque ligne correspond à un neurone de la couche.\n",
    "\n",
    "Soit $e$ la matrice colonne des erreurs, alors la règle d'apprentissage est :\n",
    "\n",
    "$$\n",
    "W^{\\text{nouveau}} = W^{\\text{ancien}} + e \\times x^T\n",
    "$$\n",
    "\n",
    "$$\n",
    "b^{\\text{nouveau}} = b^{\\text{ancien}} + e\n",
    "$$\n"
   ]
  },
  {
   "cell_type": "markdown",
   "metadata": {},
   "source": [
    "## 2. Comment choisir une architecture\n",
    "\n",
    "Les spécifications du problème aident à définir le réseau de la manière suivante :\n",
    "1. Le nombre d'entrées du réseau = le nombre d'entrées du problème\n",
    "2. Le nombre de neurones dans la couche de sortie = le nombre de sorties du problème\n",
    "3. Le choix de la fonction de transfert de la couche de sortie est en partie déterminé par\n",
    "les spécifications des sorties du problème\n"
   ]
  },
  {
   "cell_type": "markdown",
   "metadata": {},
   "source": [
    "**Exercise**\n",
    "\n",
    "A single-layer neural network is to have six inputs and two outputs.\n",
    "The outputs are to be limited to and continuous over the\n",
    "range 0 to 1. What can you tell about the network architecture?\n",
    "Specifically:\n",
    "* How many neurons are required?\n",
    "* What are the dimensions of the weight matrix?\n",
    "* What kind of transfer functions could be used?\n",
    "* Is a bias required?"
   ]
  },
  {
   "cell_type": "markdown",
   "metadata": {},
   "source": [
    "**Answer**: \n",
    "* Two neurons, one for each output, are required.\n",
    "* The weight matrix has two rows corresponding to the two neurons and\n",
    "six columns corresponding to the six inputs. (The product is a two-element\n",
    "vector.)\n",
    "* Of the transfer functions we have discussed, the transfer function\n",
    "would be most appropriate.\n",
    "* Not enough information is given to determine if a bias is required."
   ]
  },
  {
   "cell_type": "markdown",
   "metadata": {},
   "source": [
    "## Problem\n",
    "\n",
    "We have a classification problem with four classes of input vector. The four classes are : \n",
    "* class 1 : $x_1 = (1,1)$ and $x_2 = (1,2)$\n",
    "* class 2 : $x_3 = (2,-1)$ and $x_4 = (2,0)$\n",
    "* class 3 : $x_5 = (-1,2)$ and $x_6 = (-2,1)$\n",
    "* class 4 : $x_7 = (-1,-1)$ and $x_8 = (-2,-2)$\n",
    "\n",
    "\n"
   ]
  },
  {
   "cell_type": "markdown",
   "metadata": {},
   "source": [
    "a) Design a neural network to solve this problem."
   ]
  },
  {
   "cell_type": "markdown",
   "metadata": {},
   "source": [
    "We need 2 neurons and check if we can divide the 4 classes into 2 sets of 2.\n",
    "\n",
    "<img src = \"img/NNproblem1.png\"> </img>\n",
    "\n",
    "The answer is yes. \n",
    "\n",
    "Then we have to choose which value is expected according to the class of input. Let us choose theses target values :\n",
    "\n",
    "* class 1 : $t_1 = t_2 = (0,0)$\n",
    "* class 2 : $t_3 = t_4 = (0,1)$\n",
    "* class 3 : $t_5 = t_6 = (1,0)$\n",
    "* class 4 : $t_7 = t_8 = (1,1)$\n",
    "\n",
    "Then we can  graphically find suitable weights for each neuron: $w_1 = (-3,-1)$ and $w_2 = (1,-2)$. \n",
    "\n",
    "It is easy to find correct bias by picking a point on each boundary line: $b_1 = 1$ and $b_2 = 0$. "
   ]
  },
  {
   "cell_type": "markdown",
   "metadata": {},
   "source": [
    "b) Train a perceptron network to solve this problem\n",
    "using the perceptron learning rule.\n",
    "\n",
    "_Tip: be careful of the size of your matrix when you make a product. Here is an example of product:_"
   ]
  },
  {
   "cell_type": "code",
   "execution_count": 12,
   "metadata": {},
   "outputs": [
    {
     "name": "stdout",
     "output_type": "stream",
     "text": [
      "[[ 1  1]\n",
      " [ 4 -1]]\n"
     ]
    }
   ],
   "source": [
    "B = np.array([[1,1],[4,-1]]) # it is a matrix\n",
    "print(B)"
   ]
  },
  {
   "cell_type": "code",
   "execution_count": 13,
   "metadata": {},
   "outputs": [
    {
     "name": "stdout",
     "output_type": "stream",
     "text": [
      "[2 3]\n",
      "[[2]\n",
      " [3]]\n"
     ]
    }
   ],
   "source": [
    "x = np.array([1,1]) # it is a vector\n",
    "C = np.dot(B,x)  # it is a vector\n",
    "print(C)\n",
    "print(np.array([C]).T) #it is a matrix"
   ]
  },
  {
   "cell_type": "code",
   "execution_count": 14,
   "metadata": {},
   "outputs": [],
   "source": [
    "X=[];T=[]\n",
    "X.append(np.array([1,1]))\n",
    "T.append(np.array([0,0]))\n",
    "X.append(np.array([1,2]))\n",
    "T.append(np.array([0,0]))\n",
    "X.append(np.array([2,-1]))\n",
    "T.append(np.array([0,1]))\n",
    "X.append(np.array([2,0]))\n",
    "T.append(np.array([0,1]))\n",
    "X.append(np.array([-1,2]))\n",
    "T.append(np.array([1,0]))\n",
    "X.append(np.array([-2,1]))\n",
    "T.append(np.array([1,0]))\n",
    "X.append(np.array([-1,-1]))\n",
    "T.append(np.array([1,1]))\n",
    "X.append(np.array([-2,-2]))\n",
    "T.append(np.array([1,1]))\n",
    "for i in range(len(X)):\n",
    "    T[i]=np.array([T[i]]).T\n",
    "    X[i]=np.array([X[i]]).T\n",
    "\n",
    "W = np.array([[1,0],[0,1]])\n",
    "b = np.array([[1,1]]).T"
   ]
  },
  {
   "cell_type": "code",
   "execution_count": 15,
   "metadata": {},
   "outputs": [],
   "source": [
    "def H(y):\n",
    "    output = []\n",
    "    for t in y:\n",
    "        if t<0:\n",
    "            output.append(0.)\n",
    "        else:\n",
    "            output.append(1.)\n",
    "    output = np.array([output]).T\n",
    "    return output"
   ]
  },
  {
   "cell_type": "code",
   "execution_count": 16,
   "metadata": {},
   "outputs": [],
   "source": [
    "istarget = 0\n",
    "n=0\n",
    "while not istarget:\n",
    "    n = n+1\n",
    "    istarget = 1\n",
    "    for i in range(len(X)):\n",
    "        a = H(np.dot(W,X[i])+b)\n",
    "        e = T[i]-a\n",
    "        istarget = istarget *((T[i] == a).all())\n",
    "        W = W + (np.dot(e,X[i].T))\n",
    "        b = b + e\n"
   ]
  },
  {
   "cell_type": "code",
   "execution_count": 17,
   "metadata": {},
   "outputs": [
    {
     "data": {
      "text/plain": [
       "3"
      ]
     },
     "execution_count": 17,
     "metadata": {},
     "output_type": "execute_result"
    }
   ],
   "source": [
    "n"
   ]
  },
  {
   "cell_type": "code",
   "execution_count": 18,
   "metadata": {},
   "outputs": [
    {
     "data": {
      "text/plain": [
       "array([[-2.,  0.],\n",
       "       [ 0., -2.]])"
      ]
     },
     "execution_count": 18,
     "metadata": {},
     "output_type": "execute_result"
    }
   ],
   "source": [
    "W"
   ]
  },
  {
   "cell_type": "code",
   "execution_count": 19,
   "metadata": {},
   "outputs": [
    {
     "data": {
      "text/plain": [
       "array([[-1.],\n",
       "       [ 0.]])"
      ]
     },
     "execution_count": 19,
     "metadata": {},
     "output_type": "execute_result"
    }
   ],
   "source": [
    "b"
   ]
  },
  {
   "cell_type": "code",
   "execution_count": null,
   "metadata": {},
   "outputs": [],
   "source": []
  }
 ],
 "metadata": {
  "kernelspec": {
   "display_name": "Python 3",
   "language": "python",
   "name": "python3"
  },
  "language_info": {
   "codemirror_mode": {
    "name": "ipython",
    "version": 3
   },
   "file_extension": ".py",
   "mimetype": "text/x-python",
   "name": "python",
   "nbconvert_exporter": "python",
   "pygments_lexer": "ipython3",
   "version": "3.7.4"
  }
 },
 "nbformat": 4,
 "nbformat_minor": 4
}
